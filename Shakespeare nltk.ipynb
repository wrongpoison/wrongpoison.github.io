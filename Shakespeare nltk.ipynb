{
 "cells": [
  {
   "cell_type": "code",
   "execution_count": 1,
   "metadata": {},
   "outputs": [],
   "source": [
    "import nltk, re, pprint\n",
    "from nltk import word_tokenize\n",
    "#from urllib import request\n",
    "import requests\n",
    "import pandas as pd\n",
    "from matplotlib import pyplot as plt\n",
    "%matplotlib inline"
   ]
  },
  {
   "cell_type": "code",
   "execution_count": 2,
   "metadata": {},
   "outputs": [
    {
     "data": {
      "text/plain": [
       "200"
      ]
     },
     "execution_count": 2,
     "metadata": {},
     "output_type": "execute_result"
    }
   ],
   "source": [
    "r = requests.get(r'https://www.gutenberg.org/files/100/100-0.txt')\n",
    "r.status_code"
   ]
  },
  {
   "cell_type": "code",
   "execution_count": 3,
   "metadata": {},
   "outputs": [
    {
     "data": {
      "text/plain": [
       "'text/plain; charset=UTF-8'"
      ]
     },
     "execution_count": 3,
     "metadata": {},
     "output_type": "execute_result"
    }
   ],
   "source": [
    "r.headers['content-type']"
   ]
  },
  {
   "cell_type": "code",
   "execution_count": 4,
   "metadata": {},
   "outputs": [
    {
     "data": {
      "text/plain": [
       "'\\ufeff\\r\\nProject Gutenberg’s The Complete Works of Willi'"
      ]
     },
     "execution_count": 4,
     "metadata": {},
     "output_type": "execute_result"
    }
   ],
   "source": [
    "raw = r.text\n",
    "raw[:50]"
   ]
  },
  {
   "cell_type": "code",
   "execution_count": 5,
   "metadata": {},
   "outputs": [
    {
     "name": "stdout",
     "output_type": "stream",
     "text": [
      "<class 'list'>\n",
      "1214894\n"
     ]
    },
    {
     "data": {
      "text/plain": [
       "['\\ufeff',\n",
       " 'Project',\n",
       " 'Gutenberg',\n",
       " '’',\n",
       " 's',\n",
       " 'The',\n",
       " 'Complete',\n",
       " 'Works',\n",
       " 'of',\n",
       " 'William']"
      ]
     },
     "execution_count": 5,
     "metadata": {},
     "output_type": "execute_result"
    }
   ],
   "source": [
    "tokens = word_tokenizekenize(raw)\n",
    "print(type(tokens))\n",
    "print(len(tokens))\n",
    "tokens[:10]"
   ]
  },
  {
   "cell_type": "code",
   "execution_count": 6,
   "metadata": {},
   "outputs": [
    {
     "name": "stdout",
     "output_type": "stream",
     "text": [
      "<class 'nltk.text.Text'>\n",
      "KING HENRY; thou art; KING RICHARD; SIR TOBY; Exeunt SCENE; thou hast;\n",
      "Sir John; QUEEN ELIZABETH; thou shalt; MRS. FORD; KING EDWARD; SECOND\n",
      "LORD; Thou art; CHIEF JUSTICE; QUEEN MARGARET; SCENE III; FIRST LORD;\n",
      "thou wilt; dost thou; KING JOHN\n"
     ]
    }
   ],
   "source": [
    "text = nltk.Text(tokens)\n",
    "print(type(text))\n",
    "text.collocations()"
   ]
  },
  {
   "cell_type": "code",
   "execution_count": 18,
   "metadata": {},
   "outputs": [],
   "source": [
    "### Find beginning and end of text content\n",
    "raw = raw[(raw.find('\\nTHE SONNETS')):(raw.find('* END CONTENT NOTE *'))]"
   ]
  },
  {
   "cell_type": "code",
   "execution_count": 19,
   "metadata": {},
   "outputs": [],
   "source": [
    "# lower all words\n",
    "words = [w.lower() for w in tokens]"
   ]
  },
  {
   "cell_type": "code",
   "execution_count": 20,
   "metadata": {},
   "outputs": [],
   "source": [
    "# Get set() of distinct vocab words\n",
    "vocab = sorted(set(words))"
   ]
  },
  {
   "cell_type": "code",
   "execution_count": 21,
   "metadata": {},
   "outputs": [],
   "source": [
    "colors = ['red', 'orange', 'yellow', 'green', 'blue', 'navy', 'purple',\n",
    "         'violet', 'black', 'white', 'gray', 'lilac', 'turquoise', \n",
    "         'crimson', 'burgundy', 'scarlet', 'lavender', 'silver', 'gold',\n",
    "         'emerald', 'ivory', 'sable', 'azure', 'cyan', 'cerulean',\n",
    "         'aqua', 'aquamarine', 'beige', 'brown', 'chartreuse', 'coral',\n",
    "         'pink', 'rose', 'magenta', 'maroon', 'sienna', 'orchre', 'tan']"
   ]
  },
  {
   "cell_type": "code",
   "execution_count": 24,
   "metadata": {},
   "outputs": [],
   "source": [
    "# Count colors in works\n",
    "color_counts = {}\n",
    "for color in colors:\n",
    "    color_counts[color] = words.count(color)"
   ]
  },
  {
   "cell_type": "code",
   "execution_count": 26,
   "metadata": {},
   "outputs": [],
   "source": [
    "# Turn into DataFrame and sort\n",
    "colors_df = pd.DataFrame.from_dict(color_counts, orient='index')\n",
    "colors_df = colors_df.rename(index=str, columns={0:'frequency'})\n",
    "colors_df = colors_df.sort_values(by=['frequency'], ascending=False)"
   ]
  },
  {
   "cell_type": "code",
   "execution_count": 41,
   "metadata": {},
   "outputs": [],
   "source": [
    "# Select only colors with frequency greater than 0\n",
    "plot_colors_df = colors_df.loc[colors_df['frequency'] > 0]"
   ]
  },
  {
   "cell_type": "code",
   "execution_count": 45,
   "metadata": {},
   "outputs": [
    {
     "data": {
      "image/png": "[encoded data removed]",
      "text/plain": [
       "<Figure size 720x360 with 1 Axes>"
      ]
     },
     "metadata": {},
     "output_type": "display_data"
    }
   ],
   "source": [
    "# Plot\n",
    "plot_colors_df.plot(kind='bar', legend=None, figsize=(10,5))\n",
    "plt.ylabel('Frequency')\n",
    "plt.title('Frequency of Colors Mentioned in The Complete Works of William Shakespeare')\n",
    "plt.savefig(r'd:/Pictures/visualizations/shakespeare_viz.png')"
   ]
  }
 ],
 "metadata": {
  "kernelspec": {
   "display_name": "Python 3",
   "language": "python",
   "name": "python3"
  },
  "language_info": {
   "codemirror_mode": {
    "name": "ipython",
    "version": 3
   },
   "file_extension": ".py",
   "mimetype": "text/x-python",
   "name": "python",
   "nbconvert_exporter": "python",
   "pygments_lexer": "ipython3",
   "version": "3.6.4"
  }
 },
 "nbformat": 4,
 "nbformat_minor": 2
}
